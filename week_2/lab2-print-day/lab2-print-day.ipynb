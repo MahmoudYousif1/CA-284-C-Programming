{
 "cells": [
  {
   "cell_type": "code",
   "execution_count": 1,
   "metadata": {},
   "outputs": [
    {
     "name": "stdout",
     "output_type": "stream",
     "text": [
      "Writing lab2-print-day.c\n"
     ]
    }
   ],
   "source": [
    "%%file lab2-print-day.c\n",
    "hello there"
   ]
  },
  {
   "cell_type": "code",
   "execution_count": 25,
   "metadata": {},
   "outputs": [
    {
     "name": "stdout",
     "output_type": "stream",
     "text": [
      "Microsoft Windows [Version 10.0.22621.2134]\n",
      "(c) Microsoft Corporation. All rights reserved.\n",
      "\n",
      "c:\\Users\\yothe\\OneDrive\\Desktop\\COMPSCI-2\\CA-284_Systems-Programming\\week_2\\lab2-print-day>gcc lab2-print-day.c -o lab\n"
     ]
    },
    {
     "name": "stdout",
     "output_type": "stream",
     "text": [
      "\n",
      "c:\\Users\\yothe\\OneDrive\\Desktop\\COMPSCI-2\\CA-284_Systems-Programming\\week_2\\lab2-print-day>lab 7\n",
      "Saturday\n",
      "\n",
      "c:\\Users\\yothe\\OneDrive\\Desktop\\COMPSCI-2\\CA-284_Systems-Programming\\week_2\\lab2-print-day>"
     ]
    }
   ],
   "source": [
    "%%cmd\n",
    "gcc lab2-print-day.c -o lab\n",
    "lab 7"
   ]
  }
 ],
 "metadata": {
  "kernelspec": {
   "display_name": "Python 3",
   "language": "python",
   "name": "python3"
  },
  "language_info": {
   "codemirror_mode": {
    "name": "ipython",
    "version": 3
   },
   "file_extension": ".py",
   "mimetype": "text/x-python",
   "name": "python",
   "nbconvert_exporter": "python",
   "pygments_lexer": "ipython3",
   "version": "3.11.5"
  },
  "orig_nbformat": 4
 },
 "nbformat": 4,
 "nbformat_minor": 2
}
