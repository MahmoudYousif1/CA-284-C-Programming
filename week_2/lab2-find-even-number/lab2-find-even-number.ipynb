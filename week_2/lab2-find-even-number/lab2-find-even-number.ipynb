{
 "cells": [
  {
   "cell_type": "code",
   "execution_count": 1,
   "metadata": {},
   "outputs": [
    {
     "name": "stdout",
     "output_type": "stream",
     "text": [
      "Writing lab2-find-even-number.c\n"
     ]
    }
   ],
   "source": [
    "%%file lab2-find-even-number.c\n",
    "hello there"
   ]
  },
  {
   "cell_type": "code",
   "execution_count": 2,
   "metadata": {},
   "outputs": [
    {
     "name": "stdout",
     "output_type": "stream",
     "text": [
      "Microsoft Windows [Version 10.0.22621.2134]\n",
      "(c) Microsoft Corporation. All rights reserved.\n",
      "\n",
      "c:\\Users\\yothe\\OneDrive\\Desktop\\COMPSCI-2\\CA-284_Systems-Programming\\week_2\\lab2-find-even-number>gcc lab2-find-even-number.c -o exe\n"
     ]
    },
    {
     "name": "stdout",
     "output_type": "stream",
     "text": [
      "\n",
      "c:\\Users\\yothe\\OneDrive\\Desktop\\COMPSCI-2\\CA-284_Systems-Programming\\week_2\\lab2-find-even-number>exe 3 5 12 43 4 2 5\n",
      "2 - 12\n",
      "4 - 4\n",
      "5 - 2\n",
      "\n",
      "c:\\Users\\yothe\\OneDrive\\Desktop\\COMPSCI-2\\CA-284_Systems-Programming\\week_2\\lab2-find-even-number>"
     ]
    }
   ],
   "source": [
    "%%cmd\n",
    "gcc lab2-find-even-number.c -o exe\n",
    "exe 3 5 12 43 4 2 5"
   ]
  },
  {
   "cell_type": "markdown",
   "metadata": {},
   "source": [
    "int main(int argc, char *argv[]) {\n",
    "    int total_even = 0;\n",
    "    int numbers[10];\n",
    "\n",
    "    for (int i = 1; i < argc; i++) {\n",
    "        numbers[i - 1] = atoi(argv[i]);\n",
    "\n",
    "        if (numbers[i - 1] % 2 != 1) {\n",
    "            printf(\"%d - %d\\n\", i - 1, numbers[i - 1]);\n",
    "            total_even++;\n",
    "        }\n",
    "    }\n",
    "\n",
    "    if (total_even == 0) {\n",
    "        printf(\"Not found!\\n\");\n",
    "    }\n",
    "\n",
    "    return 0;\n",
    "}"
   ]
  }
 ],
 "metadata": {
  "kernelspec": {
   "display_name": "Python 3",
   "language": "python",
   "name": "python3"
  },
  "language_info": {
   "codemirror_mode": {
    "name": "ipython",
    "version": 3
   },
   "file_extension": ".py",
   "mimetype": "text/x-python",
   "name": "python",
   "nbconvert_exporter": "python",
   "pygments_lexer": "ipython3",
   "version": "3.11.5"
  },
  "orig_nbformat": 4
 },
 "nbformat": 4,
 "nbformat_minor": 2
}
