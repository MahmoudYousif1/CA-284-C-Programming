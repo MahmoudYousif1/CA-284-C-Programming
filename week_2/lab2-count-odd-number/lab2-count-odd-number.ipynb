{
 "cells": [
  {
   "cell_type": "code",
   "execution_count": 1,
   "metadata": {},
   "outputs": [
    {
     "name": "stdout",
     "output_type": "stream",
     "text": [
      "Writing lab2-count-odd-number.c\n"
     ]
    }
   ],
   "source": [
    "%%file lab2-count-odd-number.c\n",
    "hello there"
   ]
  },
  {
   "cell_type": "code",
   "execution_count": 14,
   "metadata": {},
   "outputs": [
    {
     "name": "stdout",
     "output_type": "stream",
     "text": [
      "Microsoft Windows [Version 10.0.22621.2134]\n",
      "(c) Microsoft Corporation. All rights reserved.\n",
      "\n",
      "c:\\Users\\yothe\\OneDrive\\Desktop\\COMPSCI-2\\CA-284_Systems-Programming\\week_2\\lab2-count-odd-number>gcc lab2-count-odd-number.c -o exe\n"
     ]
    },
    {
     "name": "stdout",
     "output_type": "stream",
     "text": [
      "\n",
      "c:\\Users\\yothe\\OneDrive\\Desktop\\COMPSCI-2\\CA-284_Systems-Programming\\week_2\\lab2-count-odd-number>exe 3 5 12 43 4 2 5\n",
      "4\n",
      "\n",
      "c:\\Users\\yothe\\OneDrive\\Desktop\\COMPSCI-2\\CA-284_Systems-Programming\\week_2\\lab2-count-odd-number>"
     ]
    }
   ],
   "source": [
    "%%cmd\n",
    "gcc lab2-count-odd-number.c -o exe\n",
    "exe 3 5 12 43 4 2 5"
   ]
  }
 ],
 "metadata": {
  "kernelspec": {
   "display_name": "Python 3",
   "language": "python",
   "name": "python3"
  },
  "language_info": {
   "codemirror_mode": {
    "name": "ipython",
    "version": 3
   },
   "file_extension": ".py",
   "mimetype": "text/x-python",
   "name": "python",
   "nbconvert_exporter": "python",
   "pygments_lexer": "ipython3",
   "version": "3.11.5"
  },
  "orig_nbformat": 4
 },
 "nbformat": 4,
 "nbformat_minor": 2
}
