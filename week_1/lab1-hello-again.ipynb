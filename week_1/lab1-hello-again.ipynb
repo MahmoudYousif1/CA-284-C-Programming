{
 "cells": [
  {
   "cell_type": "code",
   "execution_count": 1,
   "metadata": {},
   "outputs": [
    {
     "name": "stderr",
     "output_type": "stream",
     "text": [
      "UsageError: %%file is a cell magic, but the cell body is empty.\n"
     ]
    }
   ],
   "source": [
    "%%file lab1-hello-again.c"
   ]
  },
  {
   "cell_type": "code",
   "execution_count": null,
   "metadata": {},
   "outputs": [],
   "source": [
    "\"\"\"\n",
    "/* includes */\n",
    "#include <stdio.h>\n",
    "#include <stdlib.h>\n",
    "\n",
    "\"\"\""
   ]
  },
  {
   "cell_type": "markdown",
   "metadata": {},
   "source": [
    "<stdio.h>: \n",
    "This header file provides functions for input and output operations, such as printf and scanf.\n",
    "\n",
    "<stdlib.h>: \n",
    "This header file provides functions related to memory allocation and other utility functions. It is included here but not used in the code."
   ]
  },
  {
   "cell_type": "code",
   "execution_count": 2,
   "metadata": {},
   "outputs": [
    {
     "data": {
      "text/plain": [
       "'\\nint main(int argc, char *argv[])\\n\\n'"
      ]
     },
     "execution_count": 2,
     "metadata": {},
     "output_type": "execute_result"
    }
   ],
   "source": [
    "\"\"\"\n",
    "int main(int argc, char *argv[])\n",
    "\n",
    "\"\"\""
   ]
  },
  {
   "cell_type": "markdown",
   "metadata": {},
   "source": [
    "This line declares the main function, which is the entry point of the program. It takes two arguments:\n",
    "\n",
    "int argc: \n",
    "This argument represents the number of command-line arguments passed to the program. It stands for \"argument count.\"\n",
    "\n",
    "char *argv[]: \n",
    "This argument is an array of strings that holds the command-line arguments themselves. It stands for \"argument vector.\""
   ]
  },
  {
   "cell_type": "code",
   "execution_count": 3,
   "metadata": {},
   "outputs": [
    {
     "name": "stdout",
     "output_type": "stream",
     "text": [
      "Microsoft Windows [Version 10.0.22621.2134]\n",
      "(c) Microsoft Corporation. All rights reserved.\n",
      "\n",
      "c:\\Users\\yothe\\OneDrive\\Desktop\\programming\\C\\week_1\\lab1-hello-again.c>\n",
      "c:\\Users\\yothe\\OneDrive\\Desktop\\programming\\C\\week_1\\lab1-hello-again.c>gcc lab1-hello-again.c -o hello-again\n"
     ]
    },
    {
     "name": "stdout",
     "output_type": "stream",
     "text": [
      "\n",
      "c:\\Users\\yothe\\OneDrive\\Desktop\\programming\\C\\week_1\\lab1-hello-again.c>hello-again Mahmoud\n",
      "Hello hello-again\n",
      "\n",
      "c:\\Users\\yothe\\OneDrive\\Desktop\\programming\\C\\week_1\\lab1-hello-again.c>"
     ]
    }
   ],
   "source": [
    "%%cmd\n",
    "\n",
    "gcc lab1-hello-again.c -o hello-again\n",
    "hello-again Mahmoud"
   ]
  },
  {
   "cell_type": "code",
   "execution_count": 3,
   "metadata": {},
   "outputs": [
    {
     "name": "stderr",
     "output_type": "stream",
     "text": [
      "UsageError: %%file is a cell magic, but the cell body is empty.\n"
     ]
    }
   ],
   "source": [
    "%%file lab1-hello-again-further.c"
   ]
  },
  {
   "cell_type": "code",
   "execution_count": 4,
   "metadata": {},
   "outputs": [
    {
     "name": "stdout",
     "output_type": "stream",
     "text": [
      "Microsoft Windows [Version 10.0.22621.2134]\n",
      "(c) Microsoft Corporation. All rights reserved.\n",
      "\n",
      "c:\\Users\\yothe\\OneDrive\\Desktop\\programming\\C\\week_1\\lab1-hello-again.c>\n",
      "c:\\Users\\yothe\\OneDrive\\Desktop\\programming\\C\\week_1\\lab1-hello-again.c>gcc lab1-hello-again-further.c -o hello-again-further\n"
     ]
    },
    {
     "name": "stdout",
     "output_type": "stream",
     "text": [
      "\n",
      "c:\\Users\\yothe\\OneDrive\\Desktop\\programming\\C\\week_1\\lab1-hello-again.c>hello-again-further Mahmoud\n",
      "hello Mahmoud \n",
      "\n",
      "hello \n",
      "Mahmoud \n",
      "\n",
      "Hello? Mahmoud \n",
      "\n",
      "hello \tMahmoud \n",
      "\n",
      "helloMahmoud \n",
      "\n",
      "hello \"Mahmoud\"\n",
      "\n",
      "\n",
      "c:\\Users\\yothe\\OneDrive\\Desktop\\programming\\C\\week_1\\lab1-hello-again.c>"
     ]
    }
   ],
   "source": [
    "%%cmd\n",
    "\n",
    "gcc lab1-hello-again-further.c -o hello-again-further\n",
    "hello-again-further Mahmoud"
   ]
  }
 ],
 "metadata": {
  "kernelspec": {
   "display_name": "Python 3",
   "language": "python",
   "name": "python3"
  },
  "language_info": {
   "codemirror_mode": {
    "name": "ipython",
    "version": 3
   },
   "file_extension": ".py",
   "mimetype": "text/x-python",
   "name": "python",
   "nbconvert_exporter": "python",
   "pygments_lexer": "ipython3",
   "version": "3.11.5"
  },
  "orig_nbformat": 4
 },
 "nbformat": 4,
 "nbformat_minor": 2
}
