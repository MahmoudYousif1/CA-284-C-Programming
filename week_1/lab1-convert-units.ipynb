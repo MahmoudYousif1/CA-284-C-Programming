{
 "cells": [
  {
   "cell_type": "code",
   "execution_count": 1,
   "metadata": {},
   "outputs": [
    {
     "name": "stderr",
     "output_type": "stream",
     "text": [
      "UsageError: %%file is a cell magic, but the cell body is empty.\n"
     ]
    }
   ],
   "source": [
    "%%file lab1-convert-units.c"
   ]
  },
  {
   "cell_type": "code",
   "execution_count": 1,
   "metadata": {},
   "outputs": [
    {
     "name": "stdout",
     "output_type": "stream",
     "text": [
      "Microsoft Windows [Version 10.0.22621.2134]\n",
      "(c) Microsoft Corporation. All rights reserved.\n",
      "\n",
      "c:\\Users\\yothe\\OneDrive\\Desktop\\COMPSCI-2\\CA-284_Systems-Programming\\week_1\\lab1-convert-units.c>\n",
      "c:\\Users\\yothe\\OneDrive\\Desktop\\COMPSCI-2\\CA-284_Systems-Programming\\week_1\\lab1-convert-units.c>gcc lab1-convert-units.c -o converting-units\n",
      "\n",
      "c:\\Users\\yothe\\OneDrive\\Desktop\\COMPSCI-2\\CA-284_Systems-Programming\\week_1\\lab1-convert-units.c>converting-units 30\n",
      "11.81\n",
      "\n",
      "c:\\Users\\yothe\\OneDrive\\Desktop\\COMPSCI-2\\CA-284_Systems-Programming\\week_1\\lab1-convert-units.c>"
     ]
    }
   ],
   "source": [
    "%%cmd\n",
    "\n",
    "gcc lab1-convert-units.c -o converting-units\n",
    "converting-units 30"
   ]
  },
  {
   "cell_type": "code",
   "execution_count": 2,
   "metadata": {},
   "outputs": [
    {
     "name": "stdout",
     "output_type": "stream",
     "text": [
      "Writing lab1-convert-units-further.c\n"
     ]
    }
   ],
   "source": [
    "%%file lab1-convert-units-further.c\n",
    "hello there"
   ]
  },
  {
   "cell_type": "code",
   "execution_count": null,
   "metadata": {},
   "outputs": [],
   "source": [
    "%%cmd\n",
    "gcc lab1-convert-units-further.c -o further\n",
    "further"
   ]
  }
 ],
 "metadata": {
  "kernelspec": {
   "display_name": "Python 3",
   "language": "python",
   "name": "python3"
  },
  "language_info": {
   "codemirror_mode": {
    "name": "ipython",
    "version": 3
   },
   "file_extension": ".py",
   "mimetype": "text/x-python",
   "name": "python",
   "nbconvert_exporter": "python",
   "pygments_lexer": "ipython3",
   "version": "3.11.5"
  },
  "orig_nbformat": 4
 },
 "nbformat": 4,
 "nbformat_minor": 2
}
