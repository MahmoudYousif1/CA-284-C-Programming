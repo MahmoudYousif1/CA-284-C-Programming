{
 "cells": [
  {
   "cell_type": "markdown",
   "metadata": {},
   "source": [
    "### Getting Started"
   ]
  },
  {
   "cell_type": "markdown",
   "metadata": {},
   "source": [
    "In this module, GCC is used as a compiler to compile all C programmes. To install GCC in Linux, open your Terminal and run these command:\n",
    "\n",
    "sudo apt update\n",
    "sudo apt install build-essential\n",
    "You can check if GCC has been installed successfully by running this command that returns the GCC version:\n",
    "\n",
    "gcc --version"
   ]
  },
  {
   "cell_type": "markdown",
   "metadata": {},
   "source": [
    "### Compiling Your First Program"
   ]
  },
  {
   "cell_type": "code",
   "execution_count": null,
   "metadata": {},
   "outputs": [],
   "source": [
    "\"\"\"\"\"\n",
    "/* Include standard input and output */\n",
    "#include <stdio.h>\n",
    "/*\n",
    "Function: Main\n",
    "Parameters: none\n",
    "returns: int\n",
    "description: Prints out the string \"Hello World\"\n",
    "*/\n",
    "\n",
    "int main()\n",
    "{ /* Begin Function */\n",
    "    printf(\"hello, world\\n\"); /* Actual print statement */\n",
    "    return (0);\n",
    "} /* End function and program*/\n",
    "\"\"\"\"\""
   ]
  },
  {
   "cell_type": "markdown",
   "metadata": {},
   "source": [
    "I have commented this fairly extensively so all should be clear. I would ask you to pay particular attention to how I have added comments above the int main() function. You will observe that I have given the function name, the parameters it takes, the return type, and a short description.\n",
    "\n",
    "Save the file as hello.c and note the location where you save it as you will need it in a moment. So now how do we compile this? Open a terminal window and run the following command:\n",
    "\n",
    "gcc hello.c\n",
    "\n",
    "All going well you should see nothing at all except an almost instantaneous return to the prompt. If you get errors try to figure them out and repeat the process.\n",
    "\n",
    "Once you have compiled the program, to run it simply type:\n",
    "\n",
    "./a.out\n",
    "\n",
    "Well done, you’ve just compiled your first C program.\n",
    "\n",
    "However as you will have noticed the resulting executable program has a different name to our input. How do we give them the same name? Couldn’t be easier. This time try the following:\n",
    "\n",
    "gcc -o hello hello.c\n",
    "\n",
    "Note that the symbol following the - sign is the letter 'o' not the number 0. Many people make this mistake."
   ]
  },
  {
   "cell_type": "markdown",
   "metadata": {},
   "source": [
    "### The Compilation Process"
   ]
  },
  {
   "cell_type": "markdown",
   "metadata": {},
   "source": [
    "Up to now in your studies your development experience has focussed on Python Programming. To produce a script which you could execute you have probably done the following:\n",
    "\n",
    "Created a Python Script in a text editor and saved the file with a .py extension.\n",
    "\n",
    "Opened the Python Interpreter with a command something like: python myscript.py, and viewed the output. In other words: The interpreter takes your code and, well, interprets it. The python script is not actually translated in to the binary represenation which the computer needs.\n",
    "\n",
    "In the case of a C Program there is no interpreter involved. Rather we use a compiler. The job of the compiler is to:\n",
    "\n",
    "Take your C Program and analyse it for errors.\n",
    "\n",
    "If there are errors, the Compiler stops running and reports those back to you so that you can fix them.\n",
    "\n",
    "If there are no errors, the input file (or files) are converted into what is known as object code. think of this as sort of an intermediate step between the high-level C Language and the binary representation which the computer needs to run.\n",
    "\n",
    "The final step is to take your input file, and link it together with all of the object files together and form an executable program. this is what you actually run.\n",
    "\n",
    "If all this seems a bit confusing then just accept it for now. By the time you have finished this lesson you will be very comfortable taking an input C program and compiling it into a binary representation."
   ]
  }
 ],
 "metadata": {
  "kernelspec": {
   "display_name": "Python 3",
   "language": "python",
   "name": "python3"
  },
  "language_info": {
   "codemirror_mode": {
    "name": "ipython",
    "version": 3
   },
   "file_extension": ".py",
   "mimetype": "text/x-python",
   "name": "python",
   "nbconvert_exporter": "python",
   "pygments_lexer": "ipython3",
   "version": "3.11.5"
  },
  "orig_nbformat": 4
 },
 "nbformat": 4,
 "nbformat_minor": 2
}
